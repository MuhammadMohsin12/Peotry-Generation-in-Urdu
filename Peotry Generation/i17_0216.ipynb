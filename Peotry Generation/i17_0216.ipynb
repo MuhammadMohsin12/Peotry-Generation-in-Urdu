{
  "nbformat": 4,
  "nbformat_minor": 0,
  "metadata": {
    "colab": {
      "name": "i17-0216",
      "provenance": [],
      "collapsed_sections": []
    },
    "kernelspec": {
      "name": "python3",
      "display_name": "Python 3"
    },
    "language_info": {
      "name": "python"
    }
  },
  "cells": [
    {
      "cell_type": "code",
      "metadata": {
        "colab": {
          "base_uri": "https://localhost:8080/"
        },
        "id": "Y9X_SKYcHrHB",
        "outputId": "0f55dc02-b20f-40b9-bb52-ffdc38387075"
      },
      "source": [
        "from google.colab import drive\n",
        "drive.mount('/content/drive')"
      ],
      "execution_count": 14,
      "outputs": [
        {
          "output_type": "stream",
          "text": [
            "Mounted at /content/drive\n"
          ],
          "name": "stdout"
        }
      ]
    },
    {
      "cell_type": "code",
      "metadata": {
        "id": "oJLnOAULQ34w"
      },
      "source": [
        "#=====================================================================FILE READING===============================================================\n",
        "def readFile(file_loc): \n",
        "  file1 = open(file_loc, 'r')\n",
        "  Lines = file1.readlines()\n",
        "  \n",
        "  rawData = []\n",
        "  count = 0\n",
        "  # Strips the newline character\n",
        "  for line in Lines: \n",
        "    line = line.strip() \n",
        "    if line == \"\\n\" or line == '': \n",
        "      x = 0\n",
        "    else:\n",
        "      rawData.append(line)  \n",
        "\n",
        "  return rawData\n",
        "\n"
      ],
      "execution_count": 80,
      "outputs": []
    },
    {
      "cell_type": "code",
      "metadata": {
        "id": "p015zaIaHtc_"
      },
      "source": [
        "#=====================================================================TOKENIZING AND BACKWARD TOKEN===============================================================\n",
        "def tokenize(rawData): \n",
        "  tokenz = []\n",
        "  for line in rawData: \n",
        "    token = line.split()  \n",
        "    tokenz.append(token)\n",
        "  return tokenz\n",
        "\n",
        "def backward_tokenize(normal_token):\n",
        "  reversed_token = []\n",
        "  for i in range(len(normal_token)):\n",
        "    reversed_token.append(normal_token[i][::-1])\n",
        "  return reversed_token\n"
      ],
      "execution_count": 81,
      "outputs": []
    },
    {
      "cell_type": "code",
      "metadata": {
        "id": "WMXMV5DsUEW7"
      },
      "source": [
        "#=====================================================================GENERATING STARTING WORDS===============================================================\n",
        "def generate_starting_words(tokens):\n",
        "  starting_words = []\n",
        "  for i in range(len(tokens)):\n",
        "    starting_words.append(tokens[i][0])\n",
        "  return starting_words\n",
        "\n",
        "def generate_starting_two_words(tokens):\n",
        "  starting_two_words = []\n",
        "  for i in range(len(tokens)):\n",
        "    starting_two_words.append(tokens[i][0])\n",
        "    starting_two_words.append(tokens[i][1])\n",
        "  return starting_two_words \n",
        "\n",
        "\n"
      ],
      "execution_count": 82,
      "outputs": []
    },
    {
      "cell_type": "code",
      "metadata": {
        "id": "agq3rkP9clId"
      },
      "source": [
        "#=====================================================================UNIGRAMS===============================================================\n",
        "def generate_unigram(ngram_token):\n",
        "  unigram = []\n",
        "  c_unigram = []\n",
        "  for i in range(len(ngram_token)):\n",
        "    for j in range(len(ngram_token[i])):\n",
        "      if (ngram_token[i][j] not in unigram):\n",
        "        unigram.append(ngram_token[i][j])\n",
        "        c_unigram.append(1)\n",
        "      else:\n",
        "        c_unigram[unigram.index(ngram_token[i][j])] += 1 \n",
        "  return unigram,c_unigram\n"
      ],
      "execution_count": 83,
      "outputs": []
    },
    {
      "cell_type": "code",
      "metadata": {
        "id": "NfMy2xhQfRPq"
      },
      "source": [
        "#=====================================================================UNIGRAM PROBABILITIES===============================================================\n",
        "#Unigram probabilities\n",
        "def generate_unigram_prob(unigram,c_unigram):\n",
        "  Prob_unigram = []\n",
        "  for i in range(len(unigram)):\n",
        "    Prob_unigram.append(c_unigram[i]/len(unigram))\n",
        "  return Prob_unigram \n",
        "\n",
        "\n"
      ],
      "execution_count": 84,
      "outputs": []
    },
    {
      "cell_type": "code",
      "metadata": {
        "id": "vgsqps1ncpeD"
      },
      "source": [
        "#=====================================================================BIGRAM===============================================================\n",
        "#Get Bigrams and their count\n",
        "def generate_bigram(ngram_token):\n",
        "  bigram = []\n",
        "  c_bigram = []\n",
        "  for i in range(len(ngram_token)):\n",
        "    for j in range(len(ngram_token[i])-1):\n",
        "      if ((ngram_token[i][j]+' '+ngram_token[i][j+1]) not in bigram):\n",
        "        bigram.append(ngram_token[i][j]+' '+ngram_token[i][j+1])\n",
        "        c_bigram.append(1)\n",
        "      else:\n",
        "        c_bigram[bigram.index(ngram_token[i][j]+' '+ngram_token[i][j+1])] +=1\n",
        "  return bigram,c_bigram \n",
        "\n"
      ],
      "execution_count": 85,
      "outputs": []
    },
    {
      "cell_type": "code",
      "metadata": {
        "id": "Q-T5IPaqn3_7"
      },
      "source": [
        "#=====================================================================bigram probabilities===================================================================\n",
        "def generate_bigram_prob(bigram,c_bigram):\n",
        "  Prob_bigram = []\n",
        "  for i in range(len(bigram)):\n",
        "    Prob_bigram.append(c_bigram[i]/len(bigram))\n",
        "  return Prob_bigram\n",
        "\n",
        "\n"
      ],
      "execution_count": 86,
      "outputs": []
    },
    {
      "cell_type": "code",
      "metadata": {
        "id": "zAcRBvcsoGhJ"
      },
      "source": [
        "#Trigrams and their count\n",
        "def generate_trigram(ngram_token):\n",
        "  trigram = []\n",
        "  c_trigram = []\n",
        "  for i in range(len(ngram_token)):\n",
        "    for j in range(len(ngram_token[i])-2):\n",
        "      if ((ngram_token[i][j]+' '+ngram_token[i][j+1]+' '+ngram_token[i][j+2]) not in trigram):\n",
        "        trigram.append(ngram_token[i][j]+' '+ngram_token[i][j+1]+' '+ngram_token[i][j+2])\n",
        "        c_trigram.append(1)\n",
        "      else:\n",
        "        c_trigram[trigram.index(ngram_token[i][j]+' '+ngram_token[i][j+1]+' '+ngram_token[i][j+2])] +=1\n",
        "  return trigram,c_trigram\n"
      ],
      "execution_count": 87,
      "outputs": []
    },
    {
      "cell_type": "code",
      "metadata": {
        "id": "xhebPNZ6o_JF"
      },
      "source": [
        "#trigram probabilities\n",
        "def generate_trigram_prob(trigram,c_trigram):\n",
        "  Prob_trigram = []\n",
        "  for i in range(len(trigram)):\n",
        "    Prob_trigram.append(c_trigram[i]/len(trigram))\n",
        "  return Prob_trigram \n",
        "\n"
      ],
      "execution_count": 88,
      "outputs": []
    },
    {
      "cell_type": "code",
      "metadata": {
        "id": "XBsiKtwaBfdt"
      },
      "source": [
        "def get_next_word_prob(unigram, c_unigram, bigram, c_bigram, next, current): \n",
        "  prob_denominator =  c_unigram[unigram.index(current)]  \n",
        "  \n",
        "  temp_bigram = current + ' ' + next  \n",
        "  if temp_bigram in bigram:\n",
        "    prob_numerator = c_bigram[bigram.index(temp_bigram)]\n",
        "  else: \n",
        "    prob_numerator = 0 \n",
        "  return prob_numerator/prob_denominator \n",
        "  \n",
        "def get_next_word(unigram, c_unigram, bigram, c_bigram,current): \n",
        "  prob_next_word = []\n",
        "  prob_next_word_idx = [] \n",
        "  for i in range(len(unigram)):   \n",
        "    prob = get_next_word_prob(unigram, c_unigram, bigram, c_bigram, unigram[i], current) \n",
        "    idx = i \n",
        "    prob_next_word.append(prob)\n",
        "    prob_next_word_idx.append(i) \n",
        "\n",
        "  \n",
        "  max_value = max(prob_next_word) \n",
        "  if max_value == 0:  \n",
        "    return unigram[randrange(len(unigram))]\n",
        "  return unigram[prob_next_word.index(max_value)]"
      ],
      "execution_count": 144,
      "outputs": []
    },
    {
      "cell_type": "code",
      "metadata": {
        "id": "8IioHgYAlHwx"
      },
      "source": [
        "# Generation of verses using bigrams\n",
        "def generate_stanza_bigram(lenverse, unigram, c_unigram, bigram, c_bigram,starting_words):\n",
        "  stanza = []\n",
        "  for j in range(4): # Size of Stanza\n",
        "    verse = []\n",
        "    rand_index = randrange(len(starting_words))\n",
        "    verse.append(starting_words[rand_index]) \n",
        "    current = starting_words[rand_index]\n",
        "    for i in range(lenverse):\n",
        "      final_word = get_next_word(unigram, c_unigram, bigram, c_bigram, current)\n",
        "      verse.append(final_word) \n",
        "      current = final_word\n",
        "    comp_verse = \"\"\n",
        "    for x in range(len(verse)):\n",
        "      if (x!=len(verse)-1):\n",
        "        comp_verse+=verse[x]+ ' '\n",
        "      else:\n",
        "        comp_verse+=verse[x]\n",
        "    # print(comp_verse)\n",
        "    stanza.append(comp_verse)\n",
        "  comp_stanza = \"\"\n",
        "  for y in range(len(stanza)):\n",
        "      comp_stanza+=stanza[y]+'\\n'\n",
        "  return comp_stanza"
      ],
      "execution_count": 145,
      "outputs": []
    },
    {
      "cell_type": "markdown",
      "metadata": {
        "id": "hPN3kJmvvOaJ"
      },
      "source": [
        "**TRIGRAM**"
      ]
    },
    {
      "cell_type": "code",
      "metadata": {
        "id": "LX8gHKeJnpZh"
      },
      "source": [
        "def get_next_word_prob_trigram(bigram, c_bigram, trigram, c_trigram, next, current):  \n",
        "  if current not in bigram: \n",
        "    prob_denominator = randrange(1,5) \n",
        "  else: \n",
        "    prob_denominator =  c_bigram[bigram.index(current)]  \n",
        "  \n",
        "  temp_trigram = current + ' ' + next  \n",
        "  if temp_trigram in trigram:\n",
        "    prob_numerator = c_trigram[trigram.index(temp_trigram)]\n",
        "  else: \n",
        "    prob_numerator = 0 \n",
        "  return prob_numerator/prob_denominator \n",
        "\n",
        "def get_next_word_trigram(bigram, c_bigram, trigram, c_trigram, current): \n",
        "  prob_next_word = []\n",
        "  prob_next_word_idx = [] \n",
        "  for i in range(len(unigram)):    \n",
        "    prob = get_next_word_prob_trigram(bigram, c_bigram, trigram, c_trigram, unigram[i], current) \n",
        "    idx = i \n",
        "    prob_next_word.append(prob)\n",
        "    prob_next_word_idx.append(i) \n",
        "\n",
        "  \n",
        "  max_value = max(prob_next_word)\n",
        "  if max_value == 0:  \n",
        "    return unigram[randrange(len(unigram))]\n",
        "  return unigram[prob_next_word.index(max_value)]"
      ],
      "execution_count": 146,
      "outputs": []
    },
    {
      "cell_type": "code",
      "metadata": {
        "id": "xyOp3dwtuKfZ"
      },
      "source": [
        "\n",
        "# Generation of verses using bigrams\n",
        "def generate_stanza_trigram(lenverse, bigram, c_bigram, trigram, c_trigram,starting_words):\n",
        "  stanza = []\n",
        "  for j in range(4): # Size of Stanza\n",
        "    verse = [] \n",
        "    rand_index = randrange(len(bigram)) \n",
        "    temp_bigram_word = bigram[rand_index] \n",
        "\n",
        "    w1, w2 = temp_bigram_word.split()\n",
        "      \n",
        "    \n",
        "    verse.append(w1) \n",
        "    verse.append(w2) \n",
        "    current = w1 + ' ' + w2 \n",
        "    for i in range(lenverse):   \n",
        "      final_word = get_next_word_trigram(bigram, c_bigram, trigram, c_trigram, current)\n",
        "      verse.append(final_word)  \n",
        "      current = verse[-2] + ' ' + final_word \n",
        "    comp_verse = \"\"\n",
        "    for x in range(len(verse)):\n",
        "      if (x!=len(verse)-1):\n",
        "        comp_verse+=verse[x]+ ' '\n",
        "      else:\n",
        "        comp_verse+=verse[x]\n",
        "    # print(comp_verse)\n",
        "    stanza.append(comp_verse)\n",
        "  comp_stanza = \"\"\n",
        "  for y in range(len(stanza)):\n",
        "      comp_stanza+=stanza[y]+'\\n'\n",
        "  return comp_stanza\n",
        "\n"
      ],
      "execution_count": 147,
      "outputs": []
    },
    {
      "cell_type": "markdown",
      "metadata": {
        "id": "NNiaYQwOaB76"
      },
      "source": [
        "**DRIVER CODE**"
      ]
    },
    {
      "cell_type": "code",
      "metadata": {
        "id": "SZnwkDJClWl1"
      },
      "source": [
        "rawData = readFile(\"/content/drive/MyDrive/NLPAssignment3/faiz.txt\") \n",
        "tokenz = tokenize(rawData) \n",
        "\n",
        "reverse_token = backward_tokenize(tokenz)"
      ],
      "execution_count": 93,
      "outputs": []
    },
    {
      "cell_type": "code",
      "metadata": {
        "id": "ZEq_Kvc5ylDz"
      },
      "source": [
        "starting_words = generate_starting_words(tokenz) \n",
        "starting_two_words = generate_starting_two_words(tokenz)"
      ],
      "execution_count": 94,
      "outputs": []
    },
    {
      "cell_type": "code",
      "metadata": {
        "colab": {
          "base_uri": "https://localhost:8080/"
        },
        "id": "RLVsuj-NlveJ",
        "outputId": "b29d6c25-544c-4006-eac8-9bc1937ece7b"
      },
      "source": [
        "unigram,c_unigram = generate_unigram(tokenz)\n",
        "prob_unigram = generate_unigram_prob(unigram,c_unigram)"
      ],
      "execution_count": 137,
      "outputs": [
        {
          "output_type": "stream",
          "text": [
            "['گلوں', 'میں', 'رنگ', 'بھرے', 'باد', 'نوبہار', 'چلے', 'بھی', 'آؤ', 'کہ', 'گلشن', 'کا', 'کاروبار', 'قفس', 'اداس', 'ہے', 'یارو', 'صبا', 'سے', 'کچھ', 'تو', 'کہو', 'کہیں', 'بہر', 'خدا', 'آج', 'ذکر', 'یار', 'کبھی', 'صبح', 'ترے', 'کنج', 'لب', 'ہو', 'آغاز', 'شب', 'سر', 'کاکل', 'مشکبار', 'بڑا', 'درد', 'رشتہ', 'یہ', 'دل', 'غریب', 'سہی', 'تمہارے', 'نام', 'پہ', 'آئیں', 'گے', 'غم', 'گسار', 'جو', 'ہم', 'گزری', 'سو', 'مگر', 'ہجراں', 'ہمارے', 'اشک', 'تری', 'عاقبت', 'سنوار', 'حضور', 'ہوئی', 'دفتر', 'جنوں', 'کی', 'طلب', 'گرہ', 'لے', 'کے', 'گریباں', 'تار', 'مقام', 'فیضؔ', 'کوئی', 'راہ', 'جچا', 'ہی', 'نہیں', 'کوئے', 'نکلے', 'سوئے', 'دار', 'آئے', 'ابر', 'شراب', 'اس', 'بعد', 'عذاب', 'بام', 'مینا', 'ماہتاب', 'اترے', 'دست', 'ساقی', 'آفتاب', 'ہر', 'رگ', 'خوں', 'پھر', 'چراغاں', 'سامنے', 'وہ', 'بے', 'نقاب', 'عمر', 'ورق', 'نظر', 'تیری', 'مہر', 'و', 'وفا', 'باب', 'کر', 'رہا', 'تھا', 'جہاں', 'حساب', 'تم', 'یاد', 'نہ', 'گئی', 'تیرے', 'سرداری', 'یوں', 'روز', 'انقلاب', 'جل', 'اٹھے', 'بزم', 'غیر', 'در', 'جب', 'خانماں', 'خراب', 'طرح', 'اپنی', 'خامشی', 'گونجی', 'گویا', 'سمت', 'جواب', 'تھی', 'بسر', 'منزل', 'پہنچے', 'کامیاب', 'دروازہ', 'کھلا', 'آخر', 'بکھری', 'خوشبوئے', 'قبا', 'پھوٹی', 'پہلو', 'اٹھا', 'اک', 'آیا', 'گیا', 'چاند', 'ماند', 'ستاروں', 'نے', 'کہا', 'کون', 'کرتا', 'عہد', 'لمس', 'جانانہ', 'لیے', 'مستیٔ', 'پیمانہ', 'حمد', 'باری', 'کو', 'دعا', 'گھر', 'ویراں', 'شام', 'کیسے', 'فرقت', 'آباد', 'کیا', 'جس', 'ادا', 'اول', 'اسی', 'انداز', 'چل', 'راز', 'الفت', 'چھپا', 'دیکھ', 'لیا', 'بہت', 'جلا', 'اور', 'دیکھنے', 'باقی', 'آپ', 'لگا', 'مرے', 'ہوئے', 'ان', 'اپنا', 'بنا', 'سب', 'نظریں', 'بچا', 'تکمیل', 'سکی', 'عشق', 'آزما', 'سچ', 'ہمیں', 'شکوے', 'بجا', 'تھے', 'شک', 'ستم', 'جناب', 'دوستانہ', 'ہاں،', 'جفا', 'قاعدے', 'کاربندِ', 'اُصولِ', 'جیسے', 'ہمیشہ', 'مہرباں', 'بُھولے', 'آشنا', 'کیوں', 'دادِ', 'کی،', 'بُرا', 'کشتۂ', 'گر', 'فکرِ', 'زخم', 'خطاوار', 'ہیں', 'محوِ', 'مدح', 'خوبیِ', 'تیغِ', 'چارہ', 'گری', 'گریز', 'ورنہ', 'دکھ', '،', 'لادوا', 'پر', 'تلخیِ', 'مئے', 'ایّام،', 'فیض', 'کلام', 'مائل', 'ذرا', 'حسن', 'مرہون', 'جوش', 'بادۂ', 'ناز', 'منت', 'کش', 'فسون', 'نیاز', 'لرزش', 'پیہم', 'جاں', 'وقف', 'سوز', 'گداز', 'سوزش', 'کسے', 'معلوم', 'جانے', 'کسی', 'میری', 'خاموشیوں', 'لرزاں', 'میرے', 'نالوں', 'گم', 'شدہ', 'آواز', 'چکا', 'اب', 'ہوس', 'کریں', 'فرض', 'ادائے', 'نماز', 'تغافل', 'ہوں', 'انتظار', 'خوف', 'ناکامئ', 'امید', 'توڑ', 'دے', 'طلسم', 'مجاز', 'آتی', 'رہی', 'رات', 'بھر', 'چاندنی', 'دکھاتی', 'گاہ', 'جلتی', 'بجھتی', 'شمع', 'جھلملاتی', 'خوشبو', 'بدلتی', 'پیرہن', 'تصویر', 'گاتی', 'سایۂ', 'شاخ', 'گل', 'تلے', 'قصہ', 'سناتی', 'اسے', 'زنجیر', 'صدا', 'بلاتی', 'ایک', 'بہلتا', 'تمنا', 'ستاتی', 'یک', 'بیک', 'شورش', 'فغاں', 'فصل', 'آئی', 'امتحاں', 'صحن', 'مشتاقاں', 'روش', 'کھنچ', 'کماں', 'لہو', 'کاسۂ', 'داغ', 'ہوا', 'جام', 'ارغواں', 'جنون', 'گشتہ', 'قرض', 'دوستاں', 'کس', 'قاتل', 'سبب', 'مرگ', 'ناگہاں', 'لگے', 'کان', 'یہاں', 'سنبھالے', 'رہو', 'زباں', 'خلش', 'آشیانہ', 'سخن', 'غائبانہ', 'رخ', 'عدو', 'سلوک', 'عاشقانہ', 'خاک', 'لوگ', 'قہر', 'طوفاں', 'سہا', 'خوشا', 'مدعی', 'راندۂ', 'زمانہ', 'حیلہ', 'جفاخو', 'بت', 'بتوں', 'ڈالے', 'وسوسے', 'دلوں', 'پڑی', 'قیامتیں', 'خیال', 'جزا', 'نفس', 'خار', 'گلو', 'ہاتھ', 'نشاط', 'آہ', 'سحر', 'وقار', 'بہار', 'مزاج', 'آبروئے', 'عام', 'ثواب', 'صدق', 'صفا', 'ابھی', 'بادبان', 'تہ', 'رکھو', 'مضطرب', 'راستے', 'منتظر', 'سکوں', 'آ', 'چلا', 'گنواؤ', 'ناوک', 'نیم', 'ریزہ', 'گنوا', 'دیا', 'بچے', 'سنگ', 'سمیٹ', 'لو', 'تن', 'لٹا', 'نوید', 'صف', 'دشمناں', 'خبر', 'کرو', 'رکھتے', 'جان', 'کج', 'جبیں', 'کفن', 'قاتلوں', 'گماں', 'غرور', 'بانکپن', 'پس', 'بھلا', 'ادھر', 'حرف', 'کشتنی', 'لاکھ', 'عذر', 'گفتنی', 'سن', 'اڑا', 'لکھا', 'پڑھ', 'مٹا', 'رکے', 'کوہ', 'گراں', 'گزر', 'گئے', 'رہ', 'قدم', 'تجھے', 'یادگار', 'رقیب', 'ناصح', 'تھیں', 'آشنائیاں', 'جدا', 'میسر', 'قربتیں', 'کتنی', 'بہم', 'جدائیاں', 'پہنچ', 'کتنے', 'معتبر', 'ٹھہرے', 'اگرچہ', 'ہوئیں', 'جگ', 'ہنسائیاں', 'ایسے', 'سادہ', 'مندی', 'خدائیاں', 'خوش', 'لطف', 'کرم', 'رنجیدہ', 'سکھائیں', 'ادائیاں', 'گو', 'ساغر', 'بادہ', 'شہر', 'اتنا', 'زیادہ', 'گلیوں', 'پھرا', 'کرتے', 'دو', 'چار', 'دوانے', 'شخص', 'صد', 'چاک', 'لبادہ', 'پہچانے', 'راہی', 'ناداں', 'ایسا', 'تھک', 'پل', 'آنکھ', 'لگی', 'اٹھیں', 'ارادہ', 'واعظ', 'رسم', 'رند', 'صحبت', 'فرق', 'شہرہ', 'نادانئ', 'پریشانئ', 'محفل', 'زر', 'نمایاں', 'چرچا', 'سامانی', 'چلو', 'نگاراں', 'خرابہ', 'شاید', 'محرم', 'ملے', 'ویرانئ', 'پوچھو', 'تیر', 'فگن', 'سونپا', 'جسے', 'کام', 'نگہبانئ', 'دیکھو', 'کدھر', 'پیام', 'زندانئ', 'آئینۂ', 'عالم', 'وہی', 'حیرانئ', 'گوشۂ', 'اے', 'غماز', 'اعلان', 'والوں', 'بہ', 'ہزار', 'پیکاں', 'پیوست', 'چھیڑی', 'شوق', 'ترازو', 'رقص', 'حرص', 'خطر', 'کف', 'جگر', 'صنم', 'وقت', 'سفر', 'نظارۂ', 'مل', 'سرمۂ', 'چشم', 'خلق', 'بنی', 'چھڑکا', 'طناز', 'وصل', 'ساعت', 'پہنچی', 'حکم', 'حضوری', 'آنکھوں', 'دریچے', 'بند', 'کیے', 'سینے', 'باز', 'پہلے', 'آگے', 'نظارا', 'گزرے', 'روشن', 'جاتی', 'گلی', 'ہمارا', 'اچھے', 'جن', 'اپنے', 'فرصت', 'پوچھیں', 'احوال', 'مارا', 'خزاں', 'ایسی', 'ٹھہری', 'سارے', 'زمانے', 'بھول', 'موسم', 'پھیرے', 'دوبارا', 'یاروں', 'بہتات', 'اغیار', 'بیزار', 'بیٹھے', 'دشمن', 'ساتھ', 'گوارا', 'سجھائی', 'دیوے', 'لیکن', 'اٹھتے', 'سارا', 'سکھلائے', 'گا', 'ہوتا', 'دکھلائیں', 'گنو', 'حسرتیں', 'مقتل', 'بہا', 'جہان', 'تدبیریں', 'تعزیریں', 'پیمان', 'تسلیم', 'رضا', 'گھڑی', 'قیامت', 'رواں', 'نبض', 'دوراں', 'گردشوں', 'آسماں', 'کہتے', 'جانب', 'زیبائی', 'بدلے', 'صورت', 'تنہائی', 'دولت', 'خسرو', 'شیریں', 'دہناں', 'ارزاں', 'شناسائی', 'گرمئی', 'رشک', 'انجمن', 'بدناں', 'تذکرہ', 'چھیڑے', 'آرائی', 'شہ', 'شمشاد', 'قداں', 'سلیقہ', 'رعنائی', 'بار', 'مسیحائے', 'زدگاں', 'وعدہ', 'اقرار', 'مسیحائی', 'دیدہ', 'سنبھالو', 'فراق', 'ساز', 'سامان', 'پہنچا', 'رسوائی', 'موج', 'تھم', 'غمزدوں', 'قرار', 'زلف', 'پیغام', 'دیدار', 'دید', 'وہم', 'سمجھے', 'رو', 'گزار', 'فردا', 'ترسنے', 'رفتہ', 'ترا', 'اعتبار', 'رت', 'بدلنے', 'دیکھنا', 'حال', 'کھلتا', 'چھلکا', 'یا', 'امڈے', 'خون', 'عشاق', 'بھرنے', 'سلگنے', 'جلنے', 'آرزو', 'نکھار', 'سرفروشی', 'دعوت', 'قتل', 'ڈال', 'گردن', 'طوق', 'لاد', 'کاندھے', 'جانیے', 'آس', 'لائے', 'مے', 'کشوں', 'محتسب', 'فگاروں', 'پیار', 'شرح', 'مشکبو', 'غربت', 'کدے', 'گفتگو', 'ٹکرائیں', 'ربا', 'خالی', 'سبو', 'تلاش', 'کب', 'تک', 'سنے', 'گی', 'کہاں', 'سنائیں', 'گلے', 'روبرو', 'دم', 'حدیث', 'ملامت', 'سنائیو', 'رفو', 'آشفتہ', 'محتسبو', 'منہ', 'آئیو', 'بیچ', 'دیں', 'فکر', \"''تر\", 'دامنی', 'شیخ', 'ہماری', 'جائیو', 'دامن', 'نچوڑ', 'فرشتے', 'وضو', \"کریں''\", 'ہمتِ', 'التجا', 'ضبط', 'حوصلہ', 'اِک', 'چِھن', 'مجھ', 'دنیا', 'مشقِ', 'کھینچ', 'الم', 'نواز', 'خیر', 'گِلہ', 'ختم', 'عہدِ', 'ہجر', 'وصال', 'زندگی', 'مزہ', 'روس', 'ملک', 'اشعراء', 'رسول', 'ہمزہ', 'توف', 'مارکہ', 'آرا', 'نظم', 'مجھے', 'معجزوں', 'یقیں', 'قضا', 'دہر', 'عزم', 'لحد', 'لوٹ', 'آسکھوں', 'آکے', 'کروں', 'آرہوں', 'رہِ', 'عدم', 'روانہ', 'ترجمہ', 'احمد', 'نسخہ', 'ہائے', 'الشعراء', '“رسول', 'ھمزہ', 'توف“', 'خوبصورت', 'بولنا', 'سیکھا', 'بات', 'سمجھتی', 'شاعر', 'بری', 'اسکی', 'پلے', 'پڑتی']\n"
          ],
          "name": "stdout"
        }
      ]
    },
    {
      "cell_type": "code",
      "metadata": {
        "id": "qcLKYmIsmOEz"
      },
      "source": [
        "bigram,c_bigram = generate_bigram(tokenz)\n",
        "prob_bigram = generate_bigram_prob(bigram,c_bigram )"
      ],
      "execution_count": 96,
      "outputs": []
    },
    {
      "cell_type": "code",
      "metadata": {
        "id": "VkA5LZduMjky"
      },
      "source": [
        "reverse_bigram,count_reverse_bigram = generate_bigram(reverse_token)\n",
        "prob_reverse_bigram = generate_bigram_prob(reverse_bigram,count_reverse_bigram)"
      ],
      "execution_count": 97,
      "outputs": []
    },
    {
      "cell_type": "code",
      "metadata": {
        "id": "UrdOJQEZxTFQ"
      },
      "source": [
        "trigram,c_trigram = generate_trigram(tokenz)\n",
        "prob_trigram = generate_trigram_prob(trigram,c_trigram )"
      ],
      "execution_count": 98,
      "outputs": []
    },
    {
      "cell_type": "markdown",
      "metadata": {
        "id": "5FU8vNKUaNl3"
      },
      "source": [
        "**CREATING STANZA USING BIGRAM\n",
        "**"
      ]
    },
    {
      "cell_type": "code",
      "metadata": {
        "colab": {
          "base_uri": "https://localhost:8080/"
        },
        "id": "2TtOwEPImV0T",
        "outputId": "a06c8eae-12b9-4799-d0bf-758246f8cbdd"
      },
      "source": [
        "from random import randrange\n",
        "lenverse = randrange(7,10) \n",
        "stanzas = []\n",
        "print('Length of each verse is: ',lenverse+1)\n",
        "for i in range(3):\n",
        "  stanzas.append(generate_stanza_bigram(lenverse, unigram, c_unigram, bigram, c_bigram, starting_words))\n",
        "for x in range(3):\n",
        "  print(stanzas[x])"
      ],
      "execution_count": 148,
      "outputs": [
        {
          "output_type": "stream",
          "text": [
            "Length of each verse is:  10\n",
            "گرمئی رشک سے دل کا ہر اک شب سر شام\n",
            "کہ گلشن میں کچھ ہم نے کی طرح اپنی خامشی\n",
            "شمع غم گسار چلے بھی ہو چکا عشق کا ہر\n",
            "حمد باری کو باقی ہے یارو صبا ہے یارو صبا\n",
            "\n",
            "کس سے دل کا ہر اک شب سر شام وہ\n",
            "سب کی طرح اپنی خامشی گونجی اک شب سر شام\n",
            "تھی راہ میں کچھ ہم نے کی طرح اپنی خامشی\n",
            "شرح فراق مدح لب سے دل کا ہر اک شب\n",
            "\n",
            "نہ تھے ہم نے کی طرح اپنی خامشی گونجی تھی\n",
            "رواں ہے یارو صبا ہے یارو صبا ہے یارو صبا\n",
            "مرے ہو چکا عشق کا ہر اک شب سر شام\n",
            "فیضؔ تکمیل غم گسار چلے بھی ہو چکا عشق کا\n",
            "\n"
          ],
          "name": "stdout"
        }
      ]
    },
    {
      "cell_type": "markdown",
      "metadata": {
        "id": "lM34cd2daY8Q"
      },
      "source": [
        "**CREATING STANZA USING REVERSE BIGRAM\n",
        "**"
      ]
    },
    {
      "cell_type": "code",
      "metadata": {
        "colab": {
          "base_uri": "https://localhost:8080/"
        },
        "id": "bolDYIo3M7yA",
        "outputId": "f16a420d-b35f-4c32-9fdf-7b7c0c2ab9a5"
      },
      "source": [
        "from random import randrange\n",
        "lenverse = randrange(7,10) \n",
        "stanzas = []\n",
        "print('Length of each verse is: ',lenverse+1)\n",
        "for i in range(3):\n",
        "  stanzas.append(generate_stanza_bigram(lenverse, unigram, c_unigram, reverse_bigram, count_reverse_bigram, starting_words))\n",
        "for x in range(3):\n",
        "  print(stanzas[x])"
      ],
      "execution_count": 149,
      "outputs": [
        {
          "output_type": "stream",
          "text": [
            "Length of each verse is:  8\n",
            "ابھی رکھو تہ کو دل سے لب کنج\n",
            "گرہ خیر کی نے ہم تھے نہ کیا\n",
            "ادھر تو کبھی میں دل سے لب کنج\n",
            "رنگ میں دل سے لب کنج ترے تو\n",
            "\n",
            "خوشا بری بات کوئی میں دل سے لب\n",
            "ہاں، فرق گھڑی ہر کا دل سے لب\n",
            "سو گزری پہ نام تمہارے جاتی ہو بھی\n",
            "ہر کا دل سے لب کنج ترے تو\n",
            "\n",
            "ورنہ ایّام، مئے تلخیِ ہے باقی نہیں تو\n",
            "اپنی طرح کی نے ہم تھے نہ کیا\n",
            "خوف سے لب کنج ترے تو کبھی میں\n",
            "پھر میں دل سے لب کنج ترے تو\n",
            "\n"
          ],
          "name": "stdout"
        }
      ]
    },
    {
      "cell_type": "markdown",
      "metadata": {
        "id": "msDSaTw6aVM8"
      },
      "source": [
        "**CREATING STANZA USING TRIGRAM\n",
        "**"
      ]
    },
    {
      "cell_type": "code",
      "metadata": {
        "colab": {
          "base_uri": "https://localhost:8080/"
        },
        "id": "A2yQlBSFRYBV",
        "outputId": "d4e45532-fb12-4160-cc35-6855908835b2"
      },
      "source": [
        "from random import randrange\n",
        "lenverse = randrange(7,10) \n",
        "stanzas = []\n",
        "print('Length of each verse is: ',lenverse+1)\n",
        "for i in range(3):\n",
        "  stanzas.append(generate_stanza_trigram(lenverse, bigram, c_bigram, trigram, c_trigram, starting_two_words))\n",
        "for x in range(3):\n",
        "  print(stanzas[x])"
      ],
      "execution_count": 150,
      "outputs": [
        {
          "output_type": "stream",
          "text": [
            "Length of each verse is:  8\n",
            "کا راز بیچ لحد روبرو سبو رو کھینچ اٹھا\n",
            "کوئی خوشبوئے قبا آخر شب خدا سفر جانانہ پہنچے\n",
            "نوبہار چلے سایۂ شاخ گل کے تلے گئی تلاش\n",
            "کوئی ٹکرائیں کس سے تری گفتگو کریں توف“ لیا\n",
            "\n",
            "نبض دوراں گردشوں میں آسماں سارے الشعراء پس گراں\n",
            "بادبان کو تہ رکھو ابھی مضطرب ہے رخ ہوا\n",
            "سادہ دلوں کی نیاز مندی سے طوق گنو گزرے\n",
            "کبھی تو صبح ترے کنج لب سے ہو آغاز\n",
            "\n",
            "الفت چھپا کے دیکھ لیا بادبان دم آواز چرچا\n",
            "جانے کس پر ہو مہرباں قاتل دادِ توف“ والوں\n",
            "بہم پہنچا ہے رسوائی کا شاید مگر آسماں ورق\n",
            "حیلہ گر جو وفا جو بھی ہے جفاخو بھی\n",
            "\n"
          ],
          "name": "stdout"
        }
      ]
    },
    {
      "cell_type": "code",
      "metadata": {
        "id": "x3j7G9x3ytfz"
      },
      "source": [
        ""
      ],
      "execution_count": 106,
      "outputs": []
    }
  ]
}